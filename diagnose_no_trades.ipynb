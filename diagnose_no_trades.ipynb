import pandas as pd
import glob
import os

# Config
base_dir = r"C:\Users\open\Documents\ZENO_XAUUSD\data\live\XAUUSD"
timeframes = ['M5', 'M15', 'H1', 'H4', 'D1']
critical_cols = ['score', 'num_confs', 'pattern_code', 'bias_bull', 'hour', 'dow', 'atr']
problems = {}

for tf in timeframes:
    file_pattern = os.path.join(base_dir, tf, f"XAUUSD_{tf}_LIVE_FEATURES.csv")
    print(f"\n=== Checking {tf}: {file_pattern} ===")
    if not os.path.exists(file_pattern):
        print("File missing!")
        problems[tf] = "Missing features file"
        continue

    df = pd.read_csv(file_pattern)
    df.columns = [c.lower() for c in df.columns]  # force lowercase everywhere
    
    # Check for missing critical columns
    missing_cols = [col for col in critical_cols if col not in df.columns]
    if missing_cols:
        print(f"Missing critical columns: {missing_cols}")
        problems[tf] = f"Missing columns: {missing_cols}"
        continue
    
    # Check if there are ANY rows with valid signal-like data
    # Heuristic: score>0, num_confs>0, bias_bull not null, etc.
    df_check = df.copy()
    valid_signals = df_check[
        (df_check['score'] > 0) &
        (df_check['num_confs'] > 0) &
        (df_check['bias_bull'].notnull())
    ]
    print(f"Total rows: {len(df)}, Valid trade signals: {len(valid_signals)}")
    
    if len(valid_signals) == 0:
        print("No valid signals detected. Check your feature engineering or scoring logic.")
        problems[tf] = "No valid signals (check score, num_confs, bias_bull)"
    else:
        print("At least one valid signal exists.")
        problems[tf] = "OK"

print("\n=== SUMMARY ===")
for tf, issue in problems.items():
    print(f"{tf}: {issue}")

# Specific recommendations
if any('Missing' in str(v) for v in problems.values()):
    print("\n>> Some files are missing critical columns. AUDIT your feature engineering/export scripts to ensure ALL lower-case columns are present and filled.")
elif any('No valid signals' in str(v) for v in problems.values()):
    print("\n>> Features exist but scoring/trade trigger logic is too strict or broken. Check confluence logic and RL trigger thresholds (score, num_confs, etc).")
else:
    print("\n>> No column issues found. If still no trades, debug RL environment logic and trade logging/appending steps.")

