import os
import re

# 1. Define legacy patterns and their FULL replacements (customize as needed)
legacy_patterns = [
    r'signals_M5\.csv', r'signals_M15\.csv', r'signals_H1\.csv', r'signals_H4\.csv', r'signals_D1\.csv',
    r'signals_m5\.csv', r'signals_m15\.csv', r'signals_h1\.csv', r'signals_h4\.csv', r'signals_d1\.csv',
    r'signals_M5_windowed\.csv', r'signals_M15_windowed\.csv', r'signals_.*partial\.csv',
    # Add any legacy or test file patterns you know
]
full_replacements = [
    'signals_M5_FULL.csv', 'signals_M15_FULL.csv', 'signals_H1_FULL.csv', 'signals_H4_FULL.csv', 'signals_D1_FULL.csv',
    'signals_M5_FULL.csv', 'signals_M15_FULL.csv', 'signals_H1_FULL.csv', 'signals_H4_FULL.csv', 'signals_D1_FULL.csv',
    'signals_M5_FULL.csv', 'signals_M15_FULL.csv', 'signals_M5_FULL.csv',
    # One-to-one mapping
]

project_dir = '/path/to/your/project/root'  # <- Set this to your repo root

files_updated = 0
changes_log = []

for root, dirs, files in os.walk(project_dir):
    for file in files:
        if file.endswith(('.py', '.ipynb', '.json', '.yaml', '.yml', '.md', '.txt')):
            path = os.path.join(root, file)
            with open(path, 'r', encoding='utf-8', errors='ignore') as f:
                content = f.read()
            new_content = content
            for pat, rep in zip(legacy_patterns, full_replacements):
                new_content = re.sub(pat, rep, new_content)
            if new_content != content:
                with open(path, 'w', encoding='utf-8') as f:
                    f.write(new_content)
                files_updated += 1
                changes_log.append(path)

print(f'Files updated: {files_updated}')
for f in changes_log:
    print(f'UPDATED: {f}')

# Secondary check: search for any remaining legacy signal references
legacy_found = []
for root, dirs, files in os.walk(project_dir):
    for file in files:
        if file.endswith(('.py', '.ipynb', '.json', '.yaml', '.yml', '.md', '.txt')):
            path = os.path.join(root, file)
            with open(path, 'r', encoding='utf-8', errors='ignore') as f:
                content = f.read()
            for pat in legacy_patterns:
                if re.search(pat, content):
                    legacy_found.append((path, pat))

print(f"Legacy references remaining: {len(legacy_found)}")
for path, pat in legacy_found:
    print(f'LEGACY FOUND: {path} | PATTERN: {pat}')
