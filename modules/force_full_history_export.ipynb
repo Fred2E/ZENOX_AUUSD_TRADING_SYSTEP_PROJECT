import os
import pandas as pd
import sys

# === Config
RAW_DIR = r"C:\Users\open\Documents\ZENO_XAUUSD\historical\raw"
FEATURE_DIR = r"C:\Users\open\Documents\ZENO_XAUUSD\data\live\XAUUSD"
TIMEFRAMES = ['M5', 'M15', 'H1', 'H4']  # Add 'D1' if/when you get D1 raw data

# Insert modules path to import your project functions
modules_path = r"C:\Users\open\Documents\ZENO_XAUUSD\modules"
if modules_path not in sys.path:
    sys.path.insert(0, modules_path)

from confluence_scanner import evaluate_confluence
from candle_patterns import detect_candle_patterns  # <-- CORRECT module import!

for tf in TIMEFRAMES:
    raw_path = os.path.join(RAW_DIR, f"XAUUSD_{tf}_CLEAN.csv")
    with_patterns_path = os.path.join(FEATURE_DIR, tf, f"XAUUSD_{tf}_LIVE_with_patterns.csv")
    features_path = os.path.join(FEATURE_DIR, tf, f"XAUUSD_{tf}_LIVE_FEATURES.csv")

    if not os.path.exists(raw_path):
        print(f"[{tf}] RAW NOT FOUND: {raw_path}")
        continue

    print(f"\n[{tf}] Loading FULL raw history ({raw_path})...")
    df = pd.read_csv(raw_path)
    df.columns = [c.lower() for c in df.columns]
    print(f"[{tf}] Raw shape: {df.shape}")

    # 1. Run pattern detection on FULL history
    df_patterns = detect_candle_patterns(df, tf=tf)
    df_patterns.to_csv(with_patterns_path, index=False)
    print(f"[{tf}] [FULL] Patterns saved: {with_patterns_path} ({df_patterns.shape})")

    # 2. Run confluence/feature pipeline on FULL history
    df_features = evaluate_confluence(df_patterns, timeframe=tf)
    df_features.to_csv(features_path, index=False)
    print(f"[{tf}] [FULL] Features saved: {features_path} ({df_features.shape})")

print("\n✅ All feature and pattern files overwritten with FULL history. NO CAPPING.")
